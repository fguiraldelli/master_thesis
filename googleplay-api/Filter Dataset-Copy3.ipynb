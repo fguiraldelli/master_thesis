{
 "cells": [
  {
   "cell_type": "markdown",
   "metadata": {},
   "source": [
    "### Import libraries and file"
   ]
  },
  {
   "cell_type": "code",
   "execution_count": 1,
   "metadata": {},
   "outputs": [],
   "source": [
    "import pandas as pd\n",
    "import csv\n",
    "import numpy as np\n",
    "from scipy.spatial.distance import squareform, pdist\n",
    "from scipy.cluster.hierarchy import complete, fcluster\n",
    "from scipy.cluster.hierarchy import linkage"
   ]
  },
  {
   "cell_type": "code",
   "execution_count": 2,
   "metadata": {},
   "outputs": [],
   "source": [
    "filename = 'anpn2.csv'"
   ]
  },
  {
   "cell_type": "markdown",
   "metadata": {},
   "source": [
    "### Function do find the max size of columns"
   ]
  },
  {
   "cell_type": "code",
   "execution_count": 3,
   "metadata": {},
   "outputs": [
    {
     "name": "stdout",
     "output_type": "stream",
     "text": [
      "11\n"
     ]
    }
   ],
   "source": [
    "#preprocessing\n",
    "def get_max_len():\n",
    "    with open(filename, 'r') as csvfile:\n",
    "        reader = csv.reader(csvfile)\n",
    "        num = []\n",
    "        for i, row in enumerate(reader):\n",
    "            num.append(len(row))\n",
    "        m = max(num)\n",
    "        #print m\n",
    "        return m\n",
    "    \n",
    "print(get_max_len())"
   ]
  },
  {
   "cell_type": "markdown",
   "metadata": {},
   "source": [
    "### Read and show dataset"
   ]
  },
  {
   "cell_type": "code",
   "execution_count": 4,
   "metadata": {},
   "outputs": [],
   "source": [
    "df = pd.read_csv(filename, header=None, na_values=0, names=range(get_max_len()), low_memory=False)"
   ]
  },
  {
   "cell_type": "code",
   "execution_count": 5,
   "metadata": {
    "scrolled": false
   },
   "outputs": [
    {
     "data": {
      "text/html": [
       "<div>\n",
       "<style scoped>\n",
       "    .dataframe tbody tr th:only-of-type {\n",
       "        vertical-align: middle;\n",
       "    }\n",
       "\n",
       "    .dataframe tbody tr th {\n",
       "        vertical-align: top;\n",
       "    }\n",
       "\n",
       "    .dataframe thead th {\n",
       "        text-align: right;\n",
       "    }\n",
       "</style>\n",
       "<table border=\"1\" class=\"dataframe\">\n",
       "  <thead>\n",
       "    <tr style=\"text-align: right;\">\n",
       "      <th></th>\n",
       "      <th>0</th>\n",
       "      <th>1</th>\n",
       "      <th>2</th>\n",
       "      <th>3</th>\n",
       "      <th>4</th>\n",
       "      <th>5</th>\n",
       "      <th>6</th>\n",
       "      <th>7</th>\n",
       "      <th>8</th>\n",
       "      <th>9</th>\n",
       "      <th>10</th>\n",
       "    </tr>\n",
       "  </thead>\n",
       "  <tbody>\n",
       "    <tr>\n",
       "      <th>0</th>\n",
       "      <td>a1</td>\n",
       "      <td>p1</td>\n",
       "      <td>p2</td>\n",
       "      <td>NaN</td>\n",
       "      <td>NaN</td>\n",
       "      <td>NaN</td>\n",
       "      <td>NaN</td>\n",
       "      <td>NaN</td>\n",
       "      <td>NaN</td>\n",
       "      <td>NaN</td>\n",
       "      <td>NaN</td>\n",
       "    </tr>\n",
       "    <tr>\n",
       "      <th>1</th>\n",
       "      <td>a2</td>\n",
       "      <td>p5</td>\n",
       "      <td>p7</td>\n",
       "      <td>p9</td>\n",
       "      <td>NaN</td>\n",
       "      <td>NaN</td>\n",
       "      <td>NaN</td>\n",
       "      <td>NaN</td>\n",
       "      <td>NaN</td>\n",
       "      <td>NaN</td>\n",
       "      <td>NaN</td>\n",
       "    </tr>\n",
       "    <tr>\n",
       "      <th>2</th>\n",
       "      <td>a3</td>\n",
       "      <td>p2</td>\n",
       "      <td>p3</td>\n",
       "      <td>p4</td>\n",
       "      <td>NaN</td>\n",
       "      <td>NaN</td>\n",
       "      <td>NaN</td>\n",
       "      <td>NaN</td>\n",
       "      <td>NaN</td>\n",
       "      <td>NaN</td>\n",
       "      <td>NaN</td>\n",
       "    </tr>\n",
       "    <tr>\n",
       "      <th>3</th>\n",
       "      <td>a4</td>\n",
       "      <td>p7</td>\n",
       "      <td>p5</td>\n",
       "      <td>p8</td>\n",
       "      <td>p3</td>\n",
       "      <td>NaN</td>\n",
       "      <td>NaN</td>\n",
       "      <td>NaN</td>\n",
       "      <td>NaN</td>\n",
       "      <td>NaN</td>\n",
       "      <td>NaN</td>\n",
       "    </tr>\n",
       "    <tr>\n",
       "      <th>4</th>\n",
       "      <td>a5</td>\n",
       "      <td>p4</td>\n",
       "      <td>p1</td>\n",
       "      <td>p6</td>\n",
       "      <td>p9</td>\n",
       "      <td>p7</td>\n",
       "      <td>p3</td>\n",
       "      <td>NaN</td>\n",
       "      <td>NaN</td>\n",
       "      <td>NaN</td>\n",
       "      <td>NaN</td>\n",
       "    </tr>\n",
       "  </tbody>\n",
       "</table>\n",
       "</div>"
      ],
      "text/plain": [
       "   0   1   2    3    4    5    6    7    8    9    10\n",
       "0  a1  p1  p2  NaN  NaN  NaN  NaN  NaN  NaN  NaN  NaN\n",
       "1  a2  p5  p7   p9  NaN  NaN  NaN  NaN  NaN  NaN  NaN\n",
       "2  a3  p2  p3   p4  NaN  NaN  NaN  NaN  NaN  NaN  NaN\n",
       "3  a4  p7  p5   p8   p3  NaN  NaN  NaN  NaN  NaN  NaN\n",
       "4  a5  p4  p1   p6   p9   p7   p3  NaN  NaN  NaN  NaN"
      ]
     },
     "execution_count": 5,
     "metadata": {},
     "output_type": "execute_result"
    }
   ],
   "source": [
    "df.head()"
   ]
  },
  {
   "cell_type": "code",
   "execution_count": 6,
   "metadata": {},
   "outputs": [
    {
     "data": {
      "text/html": [
       "<div>\n",
       "<style scoped>\n",
       "    .dataframe tbody tr th:only-of-type {\n",
       "        vertical-align: middle;\n",
       "    }\n",
       "\n",
       "    .dataframe tbody tr th {\n",
       "        vertical-align: top;\n",
       "    }\n",
       "\n",
       "    .dataframe thead th {\n",
       "        text-align: right;\n",
       "    }\n",
       "</style>\n",
       "<table border=\"1\" class=\"dataframe\">\n",
       "  <thead>\n",
       "    <tr style=\"text-align: right;\">\n",
       "      <th></th>\n",
       "      <th>0</th>\n",
       "      <th>1</th>\n",
       "      <th>2</th>\n",
       "      <th>3</th>\n",
       "      <th>4</th>\n",
       "      <th>5</th>\n",
       "      <th>6</th>\n",
       "      <th>7</th>\n",
       "      <th>8</th>\n",
       "      <th>9</th>\n",
       "      <th>10</th>\n",
       "    </tr>\n",
       "  </thead>\n",
       "  <tbody>\n",
       "    <tr>\n",
       "      <th>0</th>\n",
       "      <td>a1</td>\n",
       "      <td>p1</td>\n",
       "      <td>p2</td>\n",
       "      <td>NaN</td>\n",
       "      <td>NaN</td>\n",
       "      <td>NaN</td>\n",
       "      <td>NaN</td>\n",
       "      <td>NaN</td>\n",
       "      <td>NaN</td>\n",
       "      <td>NaN</td>\n",
       "      <td>NaN</td>\n",
       "    </tr>\n",
       "    <tr>\n",
       "      <th>1</th>\n",
       "      <td>a2</td>\n",
       "      <td>p5</td>\n",
       "      <td>p7</td>\n",
       "      <td>p9</td>\n",
       "      <td>NaN</td>\n",
       "      <td>NaN</td>\n",
       "      <td>NaN</td>\n",
       "      <td>NaN</td>\n",
       "      <td>NaN</td>\n",
       "      <td>NaN</td>\n",
       "      <td>NaN</td>\n",
       "    </tr>\n",
       "    <tr>\n",
       "      <th>2</th>\n",
       "      <td>a3</td>\n",
       "      <td>p2</td>\n",
       "      <td>p3</td>\n",
       "      <td>p4</td>\n",
       "      <td>NaN</td>\n",
       "      <td>NaN</td>\n",
       "      <td>NaN</td>\n",
       "      <td>NaN</td>\n",
       "      <td>NaN</td>\n",
       "      <td>NaN</td>\n",
       "      <td>NaN</td>\n",
       "    </tr>\n",
       "    <tr>\n",
       "      <th>3</th>\n",
       "      <td>a4</td>\n",
       "      <td>p7</td>\n",
       "      <td>p5</td>\n",
       "      <td>p8</td>\n",
       "      <td>p3</td>\n",
       "      <td>NaN</td>\n",
       "      <td>NaN</td>\n",
       "      <td>NaN</td>\n",
       "      <td>NaN</td>\n",
       "      <td>NaN</td>\n",
       "      <td>NaN</td>\n",
       "    </tr>\n",
       "    <tr>\n",
       "      <th>4</th>\n",
       "      <td>a5</td>\n",
       "      <td>p4</td>\n",
       "      <td>p1</td>\n",
       "      <td>p6</td>\n",
       "      <td>p9</td>\n",
       "      <td>p7</td>\n",
       "      <td>p3</td>\n",
       "      <td>NaN</td>\n",
       "      <td>NaN</td>\n",
       "      <td>NaN</td>\n",
       "      <td>NaN</td>\n",
       "    </tr>\n",
       "    <tr>\n",
       "      <th>5</th>\n",
       "      <td>a6</td>\n",
       "      <td>p7</td>\n",
       "      <td>p3</td>\n",
       "      <td>p5</td>\n",
       "      <td>p2</td>\n",
       "      <td>NaN</td>\n",
       "      <td>NaN</td>\n",
       "      <td>NaN</td>\n",
       "      <td>NaN</td>\n",
       "      <td>NaN</td>\n",
       "      <td>NaN</td>\n",
       "    </tr>\n",
       "    <tr>\n",
       "      <th>6</th>\n",
       "      <td>a7</td>\n",
       "      <td>p1</td>\n",
       "      <td>p5</td>\n",
       "      <td>p9</td>\n",
       "      <td>NaN</td>\n",
       "      <td>NaN</td>\n",
       "      <td>NaN</td>\n",
       "      <td>NaN</td>\n",
       "      <td>NaN</td>\n",
       "      <td>NaN</td>\n",
       "      <td>NaN</td>\n",
       "    </tr>\n",
       "    <tr>\n",
       "      <th>7</th>\n",
       "      <td>a8</td>\n",
       "      <td>p6</td>\n",
       "      <td>p3</td>\n",
       "      <td>NaN</td>\n",
       "      <td>NaN</td>\n",
       "      <td>NaN</td>\n",
       "      <td>NaN</td>\n",
       "      <td>NaN</td>\n",
       "      <td>NaN</td>\n",
       "      <td>NaN</td>\n",
       "      <td>NaN</td>\n",
       "    </tr>\n",
       "    <tr>\n",
       "      <th>8</th>\n",
       "      <td>a9</td>\n",
       "      <td>p1</td>\n",
       "      <td>p3</td>\n",
       "      <td>p5</td>\n",
       "      <td>p6</td>\n",
       "      <td>p7</td>\n",
       "      <td>p8</td>\n",
       "      <td>p9</td>\n",
       "      <td>NaN</td>\n",
       "      <td>NaN</td>\n",
       "      <td>NaN</td>\n",
       "    </tr>\n",
       "    <tr>\n",
       "      <th>9</th>\n",
       "      <td>a10</td>\n",
       "      <td>p1</td>\n",
       "      <td>p2</td>\n",
       "      <td>p3</td>\n",
       "      <td>p4</td>\n",
       "      <td>p5</td>\n",
       "      <td>p6</td>\n",
       "      <td>p7</td>\n",
       "      <td>p8</td>\n",
       "      <td>p9</td>\n",
       "      <td>p10</td>\n",
       "    </tr>\n",
       "    <tr>\n",
       "      <th>10</th>\n",
       "      <td>a11</td>\n",
       "      <td>p5</td>\n",
       "      <td>p8</td>\n",
       "      <td>p10</td>\n",
       "      <td>NaN</td>\n",
       "      <td>NaN</td>\n",
       "      <td>NaN</td>\n",
       "      <td>NaN</td>\n",
       "      <td>NaN</td>\n",
       "      <td>NaN</td>\n",
       "      <td>NaN</td>\n",
       "    </tr>\n",
       "    <tr>\n",
       "      <th>11</th>\n",
       "      <td>a12</td>\n",
       "      <td>p1</td>\n",
       "      <td>p9</td>\n",
       "      <td>p4</td>\n",
       "      <td>p7</td>\n",
       "      <td>p3</td>\n",
       "      <td>NaN</td>\n",
       "      <td>NaN</td>\n",
       "      <td>NaN</td>\n",
       "      <td>NaN</td>\n",
       "      <td>NaN</td>\n",
       "    </tr>\n",
       "    <tr>\n",
       "      <th>12</th>\n",
       "      <td>a13</td>\n",
       "      <td>p1</td>\n",
       "      <td>p2</td>\n",
       "      <td>p3</td>\n",
       "      <td>NaN</td>\n",
       "      <td>NaN</td>\n",
       "      <td>NaN</td>\n",
       "      <td>NaN</td>\n",
       "      <td>NaN</td>\n",
       "      <td>NaN</td>\n",
       "      <td>NaN</td>\n",
       "    </tr>\n",
       "    <tr>\n",
       "      <th>13</th>\n",
       "      <td>a14</td>\n",
       "      <td>p4</td>\n",
       "      <td>p5</td>\n",
       "      <td>p6</td>\n",
       "      <td>NaN</td>\n",
       "      <td>NaN</td>\n",
       "      <td>NaN</td>\n",
       "      <td>NaN</td>\n",
       "      <td>NaN</td>\n",
       "      <td>NaN</td>\n",
       "      <td>NaN</td>\n",
       "    </tr>\n",
       "    <tr>\n",
       "      <th>14</th>\n",
       "      <td>a15</td>\n",
       "      <td>p7</td>\n",
       "      <td>p8</td>\n",
       "      <td>p9</td>\n",
       "      <td>p10</td>\n",
       "      <td>NaN</td>\n",
       "      <td>NaN</td>\n",
       "      <td>NaN</td>\n",
       "      <td>NaN</td>\n",
       "      <td>NaN</td>\n",
       "      <td>NaN</td>\n",
       "    </tr>\n",
       "    <tr>\n",
       "      <th>15</th>\n",
       "      <td>a16</td>\n",
       "      <td>p1</td>\n",
       "      <td>p3</td>\n",
       "      <td>p5</td>\n",
       "      <td>p7</td>\n",
       "      <td>NaN</td>\n",
       "      <td>NaN</td>\n",
       "      <td>NaN</td>\n",
       "      <td>NaN</td>\n",
       "      <td>NaN</td>\n",
       "      <td>NaN</td>\n",
       "    </tr>\n",
       "    <tr>\n",
       "      <th>16</th>\n",
       "      <td>a17</td>\n",
       "      <td>p2</td>\n",
       "      <td>p4</td>\n",
       "      <td>p6</td>\n",
       "      <td>p8</td>\n",
       "      <td>NaN</td>\n",
       "      <td>NaN</td>\n",
       "      <td>NaN</td>\n",
       "      <td>NaN</td>\n",
       "      <td>NaN</td>\n",
       "      <td>NaN</td>\n",
       "    </tr>\n",
       "    <tr>\n",
       "      <th>17</th>\n",
       "      <td>a18</td>\n",
       "      <td>p10</td>\n",
       "      <td>p9</td>\n",
       "      <td>p6</td>\n",
       "      <td>p2</td>\n",
       "      <td>p1</td>\n",
       "      <td>NaN</td>\n",
       "      <td>NaN</td>\n",
       "      <td>NaN</td>\n",
       "      <td>NaN</td>\n",
       "      <td>NaN</td>\n",
       "    </tr>\n",
       "    <tr>\n",
       "      <th>18</th>\n",
       "      <td>a19</td>\n",
       "      <td>p1</td>\n",
       "      <td>p2</td>\n",
       "      <td>p5</td>\n",
       "      <td>p6</td>\n",
       "      <td>p8</td>\n",
       "      <td>p9</td>\n",
       "      <td>p10</td>\n",
       "      <td>NaN</td>\n",
       "      <td>NaN</td>\n",
       "      <td>NaN</td>\n",
       "    </tr>\n",
       "    <tr>\n",
       "      <th>19</th>\n",
       "      <td>a20</td>\n",
       "      <td>p3</td>\n",
       "      <td>NaN</td>\n",
       "      <td>NaN</td>\n",
       "      <td>NaN</td>\n",
       "      <td>NaN</td>\n",
       "      <td>NaN</td>\n",
       "      <td>NaN</td>\n",
       "      <td>NaN</td>\n",
       "      <td>NaN</td>\n",
       "      <td>NaN</td>\n",
       "    </tr>\n",
       "  </tbody>\n",
       "</table>\n",
       "</div>"
      ],
      "text/plain": [
       "     0    1    2    3    4    5    6    7    8    9    10\n",
       "0    a1   p1   p2  NaN  NaN  NaN  NaN  NaN  NaN  NaN  NaN\n",
       "1    a2   p5   p7   p9  NaN  NaN  NaN  NaN  NaN  NaN  NaN\n",
       "2    a3   p2   p3   p4  NaN  NaN  NaN  NaN  NaN  NaN  NaN\n",
       "3    a4   p7   p5   p8   p3  NaN  NaN  NaN  NaN  NaN  NaN\n",
       "4    a5   p4   p1   p6   p9   p7   p3  NaN  NaN  NaN  NaN\n",
       "5    a6   p7   p3   p5   p2  NaN  NaN  NaN  NaN  NaN  NaN\n",
       "6    a7   p1   p5   p9  NaN  NaN  NaN  NaN  NaN  NaN  NaN\n",
       "7    a8   p6   p3  NaN  NaN  NaN  NaN  NaN  NaN  NaN  NaN\n",
       "8    a9   p1   p3   p5   p6   p7   p8   p9  NaN  NaN  NaN\n",
       "9   a10   p1   p2   p3   p4   p5   p6   p7   p8   p9  p10\n",
       "10  a11   p5   p8  p10  NaN  NaN  NaN  NaN  NaN  NaN  NaN\n",
       "11  a12   p1   p9   p4   p7   p3  NaN  NaN  NaN  NaN  NaN\n",
       "12  a13   p1   p2   p3  NaN  NaN  NaN  NaN  NaN  NaN  NaN\n",
       "13  a14   p4   p5   p6  NaN  NaN  NaN  NaN  NaN  NaN  NaN\n",
       "14  a15   p7   p8   p9  p10  NaN  NaN  NaN  NaN  NaN  NaN\n",
       "15  a16   p1   p3   p5   p7  NaN  NaN  NaN  NaN  NaN  NaN\n",
       "16  a17   p2   p4   p6   p8  NaN  NaN  NaN  NaN  NaN  NaN\n",
       "17  a18  p10   p9   p6   p2   p1  NaN  NaN  NaN  NaN  NaN\n",
       "18  a19   p1   p2   p5   p6   p8   p9  p10  NaN  NaN  NaN\n",
       "19  a20   p3  NaN  NaN  NaN  NaN  NaN  NaN  NaN  NaN  NaN"
      ]
     },
     "execution_count": 6,
     "metadata": {},
     "output_type": "execute_result"
    }
   ],
   "source": [
    "df"
   ]
  },
  {
   "cell_type": "markdown",
   "metadata": {},
   "source": [
    "### Filter Dataset"
   ]
  },
  {
   "cell_type": "code",
   "execution_count": 7,
   "metadata": {},
   "outputs": [],
   "source": [
    "permissions = set()\n",
    "permissions_list = set()\n",
    "apps_list = set()\n",
    "\n",
    "\n",
    "for index, row in df.iterrows():\n",
    "    app = row[0]\n",
    "    \n",
    "    for perm in row[1:]:\n",
    "        if str(perm) == 'nan':\n",
    "            break\n",
    "        else:\n",
    "            #perm_list = perm.split('.')\n",
    "            perm_list = perm\n",
    "            perm_t = perm_list.lower()\n",
    "            permissions.add(perm_t)\n",
    "            permissions_list.add((app, perm_t))\n",
    "            apps_list.add(app)"
   ]
  },
  {
   "cell_type": "markdown",
   "metadata": {},
   "source": [
    "### Create new dataframe from filter permissions and apps"
   ]
  },
  {
   "cell_type": "code",
   "execution_count": 8,
   "metadata": {},
   "outputs": [
    {
     "data": {
      "text/html": [
       "<div>\n",
       "<style scoped>\n",
       "    .dataframe tbody tr th:only-of-type {\n",
       "        vertical-align: middle;\n",
       "    }\n",
       "\n",
       "    .dataframe tbody tr th {\n",
       "        vertical-align: top;\n",
       "    }\n",
       "\n",
       "    .dataframe thead th {\n",
       "        text-align: right;\n",
       "    }\n",
       "</style>\n",
       "<table border=\"1\" class=\"dataframe\">\n",
       "  <thead>\n",
       "    <tr style=\"text-align: right;\">\n",
       "      <th></th>\n",
       "      <th>0</th>\n",
       "      <th>1</th>\n",
       "    </tr>\n",
       "  </thead>\n",
       "  <tbody>\n",
       "    <tr>\n",
       "      <th>0</th>\n",
       "      <td>a15</td>\n",
       "      <td>p9</td>\n",
       "    </tr>\n",
       "    <tr>\n",
       "      <th>1</th>\n",
       "      <td>a3</td>\n",
       "      <td>p2</td>\n",
       "    </tr>\n",
       "    <tr>\n",
       "      <th>2</th>\n",
       "      <td>a10</td>\n",
       "      <td>p1</td>\n",
       "    </tr>\n",
       "    <tr>\n",
       "      <th>3</th>\n",
       "      <td>a3</td>\n",
       "      <td>p4</td>\n",
       "    </tr>\n",
       "    <tr>\n",
       "      <th>4</th>\n",
       "      <td>a10</td>\n",
       "      <td>p8</td>\n",
       "    </tr>\n",
       "    <tr>\n",
       "      <th>5</th>\n",
       "      <td>a2</td>\n",
       "      <td>p9</td>\n",
       "    </tr>\n",
       "    <tr>\n",
       "      <th>6</th>\n",
       "      <td>a6</td>\n",
       "      <td>p2</td>\n",
       "    </tr>\n",
       "    <tr>\n",
       "      <th>7</th>\n",
       "      <td>a8</td>\n",
       "      <td>p6</td>\n",
       "    </tr>\n",
       "    <tr>\n",
       "      <th>8</th>\n",
       "      <td>a3</td>\n",
       "      <td>p3</td>\n",
       "    </tr>\n",
       "    <tr>\n",
       "      <th>9</th>\n",
       "      <td>a18</td>\n",
       "      <td>p2</td>\n",
       "    </tr>\n",
       "    <tr>\n",
       "      <th>10</th>\n",
       "      <td>a15</td>\n",
       "      <td>p7</td>\n",
       "    </tr>\n",
       "    <tr>\n",
       "      <th>11</th>\n",
       "      <td>a15</td>\n",
       "      <td>p10</td>\n",
       "    </tr>\n",
       "    <tr>\n",
       "      <th>12</th>\n",
       "      <td>a6</td>\n",
       "      <td>p3</td>\n",
       "    </tr>\n",
       "    <tr>\n",
       "      <th>13</th>\n",
       "      <td>a19</td>\n",
       "      <td>p2</td>\n",
       "    </tr>\n",
       "    <tr>\n",
       "      <th>14</th>\n",
       "      <td>a11</td>\n",
       "      <td>p8</td>\n",
       "    </tr>\n",
       "    <tr>\n",
       "      <th>15</th>\n",
       "      <td>a7</td>\n",
       "      <td>p9</td>\n",
       "    </tr>\n",
       "    <tr>\n",
       "      <th>16</th>\n",
       "      <td>a1</td>\n",
       "      <td>p2</td>\n",
       "    </tr>\n",
       "    <tr>\n",
       "      <th>17</th>\n",
       "      <td>a9</td>\n",
       "      <td>p5</td>\n",
       "    </tr>\n",
       "    <tr>\n",
       "      <th>18</th>\n",
       "      <td>a6</td>\n",
       "      <td>p7</td>\n",
       "    </tr>\n",
       "    <tr>\n",
       "      <th>19</th>\n",
       "      <td>a17</td>\n",
       "      <td>p4</td>\n",
       "    </tr>\n",
       "    <tr>\n",
       "      <th>20</th>\n",
       "      <td>a11</td>\n",
       "      <td>p5</td>\n",
       "    </tr>\n",
       "    <tr>\n",
       "      <th>21</th>\n",
       "      <td>a17</td>\n",
       "      <td>p2</td>\n",
       "    </tr>\n",
       "    <tr>\n",
       "      <th>22</th>\n",
       "      <td>a16</td>\n",
       "      <td>p1</td>\n",
       "    </tr>\n",
       "    <tr>\n",
       "      <th>23</th>\n",
       "      <td>a9</td>\n",
       "      <td>p1</td>\n",
       "    </tr>\n",
       "    <tr>\n",
       "      <th>24</th>\n",
       "      <td>a18</td>\n",
       "      <td>p6</td>\n",
       "    </tr>\n",
       "    <tr>\n",
       "      <th>25</th>\n",
       "      <td>a18</td>\n",
       "      <td>p10</td>\n",
       "    </tr>\n",
       "    <tr>\n",
       "      <th>26</th>\n",
       "      <td>a7</td>\n",
       "      <td>p5</td>\n",
       "    </tr>\n",
       "    <tr>\n",
       "      <th>27</th>\n",
       "      <td>a16</td>\n",
       "      <td>p5</td>\n",
       "    </tr>\n",
       "    <tr>\n",
       "      <th>28</th>\n",
       "      <td>a17</td>\n",
       "      <td>p8</td>\n",
       "    </tr>\n",
       "    <tr>\n",
       "      <th>29</th>\n",
       "      <td>a19</td>\n",
       "      <td>p5</td>\n",
       "    </tr>\n",
       "    <tr>\n",
       "      <th>...</th>\n",
       "      <td>...</td>\n",
       "      <td>...</td>\n",
       "    </tr>\n",
       "    <tr>\n",
       "      <th>53</th>\n",
       "      <td>a11</td>\n",
       "      <td>p10</td>\n",
       "    </tr>\n",
       "    <tr>\n",
       "      <th>54</th>\n",
       "      <td>a19</td>\n",
       "      <td>p8</td>\n",
       "    </tr>\n",
       "    <tr>\n",
       "      <th>55</th>\n",
       "      <td>a5</td>\n",
       "      <td>p6</td>\n",
       "    </tr>\n",
       "    <tr>\n",
       "      <th>56</th>\n",
       "      <td>a6</td>\n",
       "      <td>p5</td>\n",
       "    </tr>\n",
       "    <tr>\n",
       "      <th>57</th>\n",
       "      <td>a15</td>\n",
       "      <td>p8</td>\n",
       "    </tr>\n",
       "    <tr>\n",
       "      <th>58</th>\n",
       "      <td>a20</td>\n",
       "      <td>p3</td>\n",
       "    </tr>\n",
       "    <tr>\n",
       "      <th>59</th>\n",
       "      <td>a5</td>\n",
       "      <td>p3</td>\n",
       "    </tr>\n",
       "    <tr>\n",
       "      <th>60</th>\n",
       "      <td>a10</td>\n",
       "      <td>p9</td>\n",
       "    </tr>\n",
       "    <tr>\n",
       "      <th>61</th>\n",
       "      <td>a16</td>\n",
       "      <td>p3</td>\n",
       "    </tr>\n",
       "    <tr>\n",
       "      <th>62</th>\n",
       "      <td>a10</td>\n",
       "      <td>p2</td>\n",
       "    </tr>\n",
       "    <tr>\n",
       "      <th>63</th>\n",
       "      <td>a2</td>\n",
       "      <td>p5</td>\n",
       "    </tr>\n",
       "    <tr>\n",
       "      <th>64</th>\n",
       "      <td>a10</td>\n",
       "      <td>p3</td>\n",
       "    </tr>\n",
       "    <tr>\n",
       "      <th>65</th>\n",
       "      <td>a5</td>\n",
       "      <td>p9</td>\n",
       "    </tr>\n",
       "    <tr>\n",
       "      <th>66</th>\n",
       "      <td>a7</td>\n",
       "      <td>p1</td>\n",
       "    </tr>\n",
       "    <tr>\n",
       "      <th>67</th>\n",
       "      <td>a8</td>\n",
       "      <td>p3</td>\n",
       "    </tr>\n",
       "    <tr>\n",
       "      <th>68</th>\n",
       "      <td>a12</td>\n",
       "      <td>p4</td>\n",
       "    </tr>\n",
       "    <tr>\n",
       "      <th>69</th>\n",
       "      <td>a17</td>\n",
       "      <td>p6</td>\n",
       "    </tr>\n",
       "    <tr>\n",
       "      <th>70</th>\n",
       "      <td>a5</td>\n",
       "      <td>p7</td>\n",
       "    </tr>\n",
       "    <tr>\n",
       "      <th>71</th>\n",
       "      <td>a2</td>\n",
       "      <td>p7</td>\n",
       "    </tr>\n",
       "    <tr>\n",
       "      <th>72</th>\n",
       "      <td>a19</td>\n",
       "      <td>p10</td>\n",
       "    </tr>\n",
       "    <tr>\n",
       "      <th>73</th>\n",
       "      <td>a19</td>\n",
       "      <td>p6</td>\n",
       "    </tr>\n",
       "    <tr>\n",
       "      <th>74</th>\n",
       "      <td>a9</td>\n",
       "      <td>p3</td>\n",
       "    </tr>\n",
       "    <tr>\n",
       "      <th>75</th>\n",
       "      <td>a12</td>\n",
       "      <td>p1</td>\n",
       "    </tr>\n",
       "    <tr>\n",
       "      <th>76</th>\n",
       "      <td>a4</td>\n",
       "      <td>p8</td>\n",
       "    </tr>\n",
       "    <tr>\n",
       "      <th>77</th>\n",
       "      <td>a18</td>\n",
       "      <td>p9</td>\n",
       "    </tr>\n",
       "    <tr>\n",
       "      <th>78</th>\n",
       "      <td>a12</td>\n",
       "      <td>p9</td>\n",
       "    </tr>\n",
       "    <tr>\n",
       "      <th>79</th>\n",
       "      <td>a4</td>\n",
       "      <td>p5</td>\n",
       "    </tr>\n",
       "    <tr>\n",
       "      <th>80</th>\n",
       "      <td>a16</td>\n",
       "      <td>p7</td>\n",
       "    </tr>\n",
       "    <tr>\n",
       "      <th>81</th>\n",
       "      <td>a9</td>\n",
       "      <td>p7</td>\n",
       "    </tr>\n",
       "    <tr>\n",
       "      <th>82</th>\n",
       "      <td>a10</td>\n",
       "      <td>p4</td>\n",
       "    </tr>\n",
       "  </tbody>\n",
       "</table>\n",
       "<p>83 rows × 2 columns</p>\n",
       "</div>"
      ],
      "text/plain": [
       "      0    1\n",
       "0   a15   p9\n",
       "1    a3   p2\n",
       "2   a10   p1\n",
       "3    a3   p4\n",
       "4   a10   p8\n",
       "5    a2   p9\n",
       "6    a6   p2\n",
       "7    a8   p6\n",
       "8    a3   p3\n",
       "9   a18   p2\n",
       "10  a15   p7\n",
       "11  a15  p10\n",
       "12   a6   p3\n",
       "13  a19   p2\n",
       "14  a11   p8\n",
       "15   a7   p9\n",
       "16   a1   p2\n",
       "17   a9   p5\n",
       "18   a6   p7\n",
       "19  a17   p4\n",
       "20  a11   p5\n",
       "21  a17   p2\n",
       "22  a16   p1\n",
       "23   a9   p1\n",
       "24  a18   p6\n",
       "25  a18  p10\n",
       "26   a7   p5\n",
       "27  a16   p5\n",
       "28  a17   p8\n",
       "29  a19   p5\n",
       "..  ...  ...\n",
       "53  a11  p10\n",
       "54  a19   p8\n",
       "55   a5   p6\n",
       "56   a6   p5\n",
       "57  a15   p8\n",
       "58  a20   p3\n",
       "59   a5   p3\n",
       "60  a10   p9\n",
       "61  a16   p3\n",
       "62  a10   p2\n",
       "63   a2   p5\n",
       "64  a10   p3\n",
       "65   a5   p9\n",
       "66   a7   p1\n",
       "67   a8   p3\n",
       "68  a12   p4\n",
       "69  a17   p6\n",
       "70   a5   p7\n",
       "71   a2   p7\n",
       "72  a19  p10\n",
       "73  a19   p6\n",
       "74   a9   p3\n",
       "75  a12   p1\n",
       "76   a4   p8\n",
       "77  a18   p9\n",
       "78  a12   p9\n",
       "79   a4   p5\n",
       "80  a16   p7\n",
       "81   a9   p7\n",
       "82  a10   p4\n",
       "\n",
       "[83 rows x 2 columns]"
      ]
     },
     "execution_count": 8,
     "metadata": {},
     "output_type": "execute_result"
    }
   ],
   "source": [
    "df_apps = pd.DataFrame(list(permissions_list))\n",
    "df_apps.head()\n",
    "df_apps"
   ]
  },
  {
   "cell_type": "markdown",
   "metadata": {},
   "source": [
    "### Create a matrix from dataframe"
   ]
  },
  {
   "cell_type": "code",
   "execution_count": 9,
   "metadata": {},
   "outputs": [],
   "source": [
    "matrix = pd.crosstab(index=df_apps[0], columns = df_apps[1])\n",
    "#matrix.to_csv('permissions_matrix_anpn2.csv', index=False)"
   ]
  },
  {
   "cell_type": "markdown",
   "metadata": {},
   "source": [
    "### Calculate similarity matrix (>= 16gb to run)"
   ]
  },
  {
   "cell_type": "code",
   "execution_count": 10,
   "metadata": {},
   "outputs": [],
   "source": [
    "similarity_matrix = np.float32(squareform(pdist(matrix, 'cosine')))"
   ]
  },
  {
   "cell_type": "code",
   "execution_count": 12,
   "metadata": {},
   "outputs": [],
   "source": [
    "similarity_matrix_pearson = np.float32(squareform(pdist(matrix, 'correlation')))"
   ]
  },
  {
   "cell_type": "markdown",
   "metadata": {},
   "source": [
    "### Write similarity matrix in file (.npy)"
   ]
  },
  {
   "cell_type": "code",
   "execution_count": 33,
   "metadata": {
    "scrolled": true
   },
   "outputs": [],
   "source": [
    "np.save('sim_matrix_anpn2.npy', similarity_matrix)"
   ]
  },
  {
   "cell_type": "code",
   "execution_count": 13,
   "metadata": {},
   "outputs": [],
   "source": [
    "np.savetxt(\"sim_matriz_anpn2.csv\", similarity_matrix, delimiter=\",\")"
   ]
  },
  {
   "cell_type": "code",
   "execution_count": 11,
   "metadata": {},
   "outputs": [
    {
     "data": {
      "text/html": [
       "<div>\n",
       "<style scoped>\n",
       "    .dataframe tbody tr th:only-of-type {\n",
       "        vertical-align: middle;\n",
       "    }\n",
       "\n",
       "    .dataframe tbody tr th {\n",
       "        vertical-align: top;\n",
       "    }\n",
       "\n",
       "    .dataframe thead th {\n",
       "        text-align: right;\n",
       "    }\n",
       "</style>\n",
       "<table border=\"1\" class=\"dataframe\">\n",
       "  <thead>\n",
       "    <tr style=\"text-align: right;\">\n",
       "      <th>1</th>\n",
       "      <th>p1</th>\n",
       "      <th>p10</th>\n",
       "      <th>p2</th>\n",
       "      <th>p3</th>\n",
       "      <th>p4</th>\n",
       "      <th>p5</th>\n",
       "      <th>p6</th>\n",
       "      <th>p7</th>\n",
       "      <th>p8</th>\n",
       "      <th>p9</th>\n",
       "    </tr>\n",
       "    <tr>\n",
       "      <th>0</th>\n",
       "      <th></th>\n",
       "      <th></th>\n",
       "      <th></th>\n",
       "      <th></th>\n",
       "      <th></th>\n",
       "      <th></th>\n",
       "      <th></th>\n",
       "      <th></th>\n",
       "      <th></th>\n",
       "      <th></th>\n",
       "    </tr>\n",
       "  </thead>\n",
       "  <tbody>\n",
       "    <tr>\n",
       "      <th>a1</th>\n",
       "      <td>1</td>\n",
       "      <td>0</td>\n",
       "      <td>1</td>\n",
       "      <td>0</td>\n",
       "      <td>0</td>\n",
       "      <td>0</td>\n",
       "      <td>0</td>\n",
       "      <td>0</td>\n",
       "      <td>0</td>\n",
       "      <td>0</td>\n",
       "    </tr>\n",
       "    <tr>\n",
       "      <th>a10</th>\n",
       "      <td>1</td>\n",
       "      <td>1</td>\n",
       "      <td>1</td>\n",
       "      <td>1</td>\n",
       "      <td>1</td>\n",
       "      <td>1</td>\n",
       "      <td>1</td>\n",
       "      <td>1</td>\n",
       "      <td>1</td>\n",
       "      <td>1</td>\n",
       "    </tr>\n",
       "    <tr>\n",
       "      <th>a11</th>\n",
       "      <td>0</td>\n",
       "      <td>1</td>\n",
       "      <td>0</td>\n",
       "      <td>0</td>\n",
       "      <td>0</td>\n",
       "      <td>1</td>\n",
       "      <td>0</td>\n",
       "      <td>0</td>\n",
       "      <td>1</td>\n",
       "      <td>0</td>\n",
       "    </tr>\n",
       "    <tr>\n",
       "      <th>a12</th>\n",
       "      <td>1</td>\n",
       "      <td>0</td>\n",
       "      <td>0</td>\n",
       "      <td>1</td>\n",
       "      <td>1</td>\n",
       "      <td>0</td>\n",
       "      <td>0</td>\n",
       "      <td>1</td>\n",
       "      <td>0</td>\n",
       "      <td>1</td>\n",
       "    </tr>\n",
       "    <tr>\n",
       "      <th>a13</th>\n",
       "      <td>1</td>\n",
       "      <td>0</td>\n",
       "      <td>1</td>\n",
       "      <td>1</td>\n",
       "      <td>0</td>\n",
       "      <td>0</td>\n",
       "      <td>0</td>\n",
       "      <td>0</td>\n",
       "      <td>0</td>\n",
       "      <td>0</td>\n",
       "    </tr>\n",
       "    <tr>\n",
       "      <th>a14</th>\n",
       "      <td>0</td>\n",
       "      <td>0</td>\n",
       "      <td>0</td>\n",
       "      <td>0</td>\n",
       "      <td>1</td>\n",
       "      <td>1</td>\n",
       "      <td>1</td>\n",
       "      <td>0</td>\n",
       "      <td>0</td>\n",
       "      <td>0</td>\n",
       "    </tr>\n",
       "    <tr>\n",
       "      <th>a15</th>\n",
       "      <td>0</td>\n",
       "      <td>1</td>\n",
       "      <td>0</td>\n",
       "      <td>0</td>\n",
       "      <td>0</td>\n",
       "      <td>0</td>\n",
       "      <td>0</td>\n",
       "      <td>1</td>\n",
       "      <td>1</td>\n",
       "      <td>1</td>\n",
       "    </tr>\n",
       "    <tr>\n",
       "      <th>a16</th>\n",
       "      <td>1</td>\n",
       "      <td>0</td>\n",
       "      <td>0</td>\n",
       "      <td>1</td>\n",
       "      <td>0</td>\n",
       "      <td>1</td>\n",
       "      <td>0</td>\n",
       "      <td>1</td>\n",
       "      <td>0</td>\n",
       "      <td>0</td>\n",
       "    </tr>\n",
       "    <tr>\n",
       "      <th>a17</th>\n",
       "      <td>0</td>\n",
       "      <td>0</td>\n",
       "      <td>1</td>\n",
       "      <td>0</td>\n",
       "      <td>1</td>\n",
       "      <td>0</td>\n",
       "      <td>1</td>\n",
       "      <td>0</td>\n",
       "      <td>1</td>\n",
       "      <td>0</td>\n",
       "    </tr>\n",
       "    <tr>\n",
       "      <th>a18</th>\n",
       "      <td>1</td>\n",
       "      <td>1</td>\n",
       "      <td>1</td>\n",
       "      <td>0</td>\n",
       "      <td>0</td>\n",
       "      <td>0</td>\n",
       "      <td>1</td>\n",
       "      <td>0</td>\n",
       "      <td>0</td>\n",
       "      <td>1</td>\n",
       "    </tr>\n",
       "    <tr>\n",
       "      <th>a19</th>\n",
       "      <td>1</td>\n",
       "      <td>1</td>\n",
       "      <td>1</td>\n",
       "      <td>0</td>\n",
       "      <td>0</td>\n",
       "      <td>1</td>\n",
       "      <td>1</td>\n",
       "      <td>0</td>\n",
       "      <td>1</td>\n",
       "      <td>1</td>\n",
       "    </tr>\n",
       "    <tr>\n",
       "      <th>a2</th>\n",
       "      <td>0</td>\n",
       "      <td>0</td>\n",
       "      <td>0</td>\n",
       "      <td>0</td>\n",
       "      <td>0</td>\n",
       "      <td>1</td>\n",
       "      <td>0</td>\n",
       "      <td>1</td>\n",
       "      <td>0</td>\n",
       "      <td>1</td>\n",
       "    </tr>\n",
       "    <tr>\n",
       "      <th>a20</th>\n",
       "      <td>0</td>\n",
       "      <td>0</td>\n",
       "      <td>0</td>\n",
       "      <td>1</td>\n",
       "      <td>0</td>\n",
       "      <td>0</td>\n",
       "      <td>0</td>\n",
       "      <td>0</td>\n",
       "      <td>0</td>\n",
       "      <td>0</td>\n",
       "    </tr>\n",
       "    <tr>\n",
       "      <th>a3</th>\n",
       "      <td>0</td>\n",
       "      <td>0</td>\n",
       "      <td>1</td>\n",
       "      <td>1</td>\n",
       "      <td>1</td>\n",
       "      <td>0</td>\n",
       "      <td>0</td>\n",
       "      <td>0</td>\n",
       "      <td>0</td>\n",
       "      <td>0</td>\n",
       "    </tr>\n",
       "    <tr>\n",
       "      <th>a4</th>\n",
       "      <td>0</td>\n",
       "      <td>0</td>\n",
       "      <td>0</td>\n",
       "      <td>1</td>\n",
       "      <td>0</td>\n",
       "      <td>1</td>\n",
       "      <td>0</td>\n",
       "      <td>1</td>\n",
       "      <td>1</td>\n",
       "      <td>0</td>\n",
       "    </tr>\n",
       "    <tr>\n",
       "      <th>a5</th>\n",
       "      <td>1</td>\n",
       "      <td>0</td>\n",
       "      <td>0</td>\n",
       "      <td>1</td>\n",
       "      <td>1</td>\n",
       "      <td>0</td>\n",
       "      <td>1</td>\n",
       "      <td>1</td>\n",
       "      <td>0</td>\n",
       "      <td>1</td>\n",
       "    </tr>\n",
       "    <tr>\n",
       "      <th>a6</th>\n",
       "      <td>0</td>\n",
       "      <td>0</td>\n",
       "      <td>1</td>\n",
       "      <td>1</td>\n",
       "      <td>0</td>\n",
       "      <td>1</td>\n",
       "      <td>0</td>\n",
       "      <td>1</td>\n",
       "      <td>0</td>\n",
       "      <td>0</td>\n",
       "    </tr>\n",
       "    <tr>\n",
       "      <th>a7</th>\n",
       "      <td>1</td>\n",
       "      <td>0</td>\n",
       "      <td>0</td>\n",
       "      <td>0</td>\n",
       "      <td>0</td>\n",
       "      <td>1</td>\n",
       "      <td>0</td>\n",
       "      <td>0</td>\n",
       "      <td>0</td>\n",
       "      <td>1</td>\n",
       "    </tr>\n",
       "    <tr>\n",
       "      <th>a8</th>\n",
       "      <td>0</td>\n",
       "      <td>0</td>\n",
       "      <td>0</td>\n",
       "      <td>1</td>\n",
       "      <td>0</td>\n",
       "      <td>0</td>\n",
       "      <td>1</td>\n",
       "      <td>0</td>\n",
       "      <td>0</td>\n",
       "      <td>0</td>\n",
       "    </tr>\n",
       "    <tr>\n",
       "      <th>a9</th>\n",
       "      <td>1</td>\n",
       "      <td>0</td>\n",
       "      <td>0</td>\n",
       "      <td>1</td>\n",
       "      <td>0</td>\n",
       "      <td>1</td>\n",
       "      <td>1</td>\n",
       "      <td>1</td>\n",
       "      <td>1</td>\n",
       "      <td>1</td>\n",
       "    </tr>\n",
       "  </tbody>\n",
       "</table>\n",
       "</div>"
      ],
      "text/plain": [
       "1    p1  p10  p2  p3  p4  p5  p6  p7  p8  p9\n",
       "0                                           \n",
       "a1    1    0   1   0   0   0   0   0   0   0\n",
       "a10   1    1   1   1   1   1   1   1   1   1\n",
       "a11   0    1   0   0   0   1   0   0   1   0\n",
       "a12   1    0   0   1   1   0   0   1   0   1\n",
       "a13   1    0   1   1   0   0   0   0   0   0\n",
       "a14   0    0   0   0   1   1   1   0   0   0\n",
       "a15   0    1   0   0   0   0   0   1   1   1\n",
       "a16   1    0   0   1   0   1   0   1   0   0\n",
       "a17   0    0   1   0   1   0   1   0   1   0\n",
       "a18   1    1   1   0   0   0   1   0   0   1\n",
       "a19   1    1   1   0   0   1   1   0   1   1\n",
       "a2    0    0   0   0   0   1   0   1   0   1\n",
       "a20   0    0   0   1   0   0   0   0   0   0\n",
       "a3    0    0   1   1   1   0   0   0   0   0\n",
       "a4    0    0   0   1   0   1   0   1   1   0\n",
       "a5    1    0   0   1   1   0   1   1   0   1\n",
       "a6    0    0   1   1   0   1   0   1   0   0\n",
       "a7    1    0   0   0   0   1   0   0   0   1\n",
       "a8    0    0   0   1   0   0   1   0   0   0\n",
       "a9    1    0   0   1   0   1   1   1   1   1"
      ]
     },
     "execution_count": 11,
     "metadata": {},
     "output_type": "execute_result"
    }
   ],
   "source": [
    "matrix"
   ]
  },
  {
   "cell_type": "code",
   "execution_count": 12,
   "metadata": {},
   "outputs": [
    {
     "data": {
      "text/plain": [
       "array([[0.        , 0.5527864 , 1.        , 0.6837722 , 0.18350342,\n",
       "        1.        , 1.        , 0.6464466 , 0.6464466 , 0.36754447,\n",
       "        0.46547753, 1.        , 1.        , 0.5917517 , 1.        ,\n",
       "        0.7113249 , 0.6464466 , 0.5917517 , 1.        , 0.73273873],\n",
       "       [0.5527864 , 0.        , 0.45227745, 0.29289323, 0.45227745,\n",
       "        0.45227745, 0.36754447, 0.36754447, 0.36754447, 0.29289323,\n",
       "        0.16333997, 0.45227745, 0.6837722 , 0.45227745, 0.36754447,\n",
       "        0.22540332, 0.36754447, 0.45227745, 0.5527864 , 0.16333997],\n",
       "       [1.        , 0.45227745, 0.        , 1.        , 1.        ,\n",
       "        0.6666667 , 0.42264974, 0.7113249 , 0.7113249 , 0.7418011 ,\n",
       "        0.34534633, 0.6666667 , 1.        , 1.        , 0.42264974,\n",
       "        1.        , 0.7113249 , 0.6666667 , 1.        , 0.56356424],\n",
       "       [0.6837722 , 0.29289323, 1.        , 0.        , 0.48360223,\n",
       "        0.7418011 , 0.5527864 , 0.3291796 , 0.7763932 , 0.6       ,\n",
       "        0.6619383 , 0.48360223, 0.5527864 , 0.48360223, 0.5527864 ,\n",
       "        0.08712907, 0.5527864 , 0.48360223, 0.6837722 , 0.3238766 ],\n",
       "       [0.18350342, 0.45227745, 1.        , 0.48360223, 0.        ,\n",
       "        1.        , 1.        , 0.42264974, 0.7113249 , 0.48360223,\n",
       "        0.56356424, 1.        , 0.42264974, 0.33333334, 0.7113249 ,\n",
       "        0.5285955 , 0.42264974, 0.6666667 , 0.5917517 , 0.56356424],\n",
       "       [1.        , 0.45227745, 0.6666667 , 0.7418011 , 1.        ,\n",
       "        0.        , 1.        , 0.7113249 , 0.42264974, 0.7418011 ,\n",
       "        0.56356424, 0.6666667 , 1.        , 0.6666667 , 0.7113249 ,\n",
       "        0.5285955 , 0.7113249 , 0.6666667 , 0.5917517 , 0.56356424],\n",
       "       [1.        , 0.36754447, 0.42264974, 0.5527864 , 1.        ,\n",
       "        1.        , 0.        , 0.75      , 0.75      , 0.5527864 ,\n",
       "        0.43305328, 0.42264974, 1.        , 1.        , 0.5       ,\n",
       "        0.5917517 , 0.75      , 0.7113249 , 1.        , 0.43305328],\n",
       "       [0.6464466 , 0.36754447, 0.7113249 , 0.3291796 , 0.42264974,\n",
       "        0.7113249 , 0.75      , 0.        , 1.        , 0.7763932 ,\n",
       "        0.6220355 , 0.42264974, 0.5       , 0.7113249 , 0.25      ,\n",
       "        0.38762757, 0.25      , 0.42264974, 0.6464466 , 0.24407105],\n",
       "       [0.6464466 , 0.36754447, 0.7113249 , 0.7763932 , 0.7113249 ,\n",
       "        0.42264974, 0.75      , 1.        , 0.        , 0.5527864 ,\n",
       "        0.43305328, 1.        , 1.        , 0.42264974, 0.75      ,\n",
       "        0.5917517 , 0.75      , 1.        , 0.6464466 , 0.6220355 ],\n",
       "       [0.36754447, 0.29289323, 0.7418011 , 0.6       , 0.48360223,\n",
       "        0.7418011 , 0.5527864 , 0.7763932 , 0.5527864 , 0.        ,\n",
       "        0.15484574, 0.7418011 , 1.        , 0.7418011 , 1.        ,\n",
       "        0.45227745, 0.7763932 , 0.48360223, 0.6837722 , 0.49290743],\n",
       "       [0.46547753, 0.16333997, 0.34534633, 0.6619383 , 0.56356424,\n",
       "        0.56356424, 0.43305328, 0.6220355 , 0.43305328, 0.15484574,\n",
       "        0.        , 0.56356424, 1.        , 0.7817821 , 0.6220355 ,\n",
       "        0.53708994, 0.6220355 , 0.34534633, 0.73273873, 0.2857143 ],\n",
       "       [1.        , 0.45227745, 0.6666667 , 0.48360223, 1.        ,\n",
       "        0.6666667 , 0.42264974, 0.42264974, 1.        , 0.7418011 ,\n",
       "        0.56356424, 0.        , 1.        , 1.        , 0.42264974,\n",
       "        0.5285955 , 0.42264974, 0.33333334, 1.        , 0.34534633],\n",
       "       [1.        , 0.6837722 , 1.        , 0.5527864 , 0.42264974,\n",
       "        1.        , 1.        , 0.5       , 1.        , 1.        ,\n",
       "        1.        , 1.        , 0.        , 0.42264974, 0.5       ,\n",
       "        0.5917517 , 0.5       , 1.        , 0.29289323, 0.6220355 ],\n",
       "       [0.5917517 , 0.45227745, 1.        , 0.48360223, 0.33333334,\n",
       "        0.6666667 , 1.        , 0.7113249 , 0.42264974, 0.7418011 ,\n",
       "        0.7817821 , 1.        , 0.42264974, 0.        , 0.7113249 ,\n",
       "        0.5285955 , 0.42264974, 1.        , 0.5917517 , 0.7817821 ],\n",
       "       [1.        , 0.36754447, 0.42264974, 0.5527864 , 0.7113249 ,\n",
       "        0.7113249 , 0.5       , 0.25      , 0.75      , 1.        ,\n",
       "        0.6220355 , 0.42264974, 0.5       , 0.7113249 , 0.        ,\n",
       "        0.5917517 , 0.25      , 0.7113249 , 0.6464466 , 0.24407105],\n",
       "       [0.7113249 , 0.22540332, 1.        , 0.08712907, 0.5285955 ,\n",
       "        0.5285955 , 0.5917517 , 0.38762757, 0.5917517 , 0.45227745,\n",
       "        0.53708994, 0.5285955 , 0.5917517 , 0.5285955 , 0.5917517 ,\n",
       "        0.        , 0.5917517 , 0.5285955 , 0.42264974, 0.22848324],\n",
       "       [0.6464466 , 0.36754447, 0.7113249 , 0.5527864 , 0.42264974,\n",
       "        0.7113249 , 0.75      , 0.25      , 0.75      , 0.7763932 ,\n",
       "        0.6220355 , 0.42264974, 0.5       , 0.42264974, 0.25      ,\n",
       "        0.5917517 , 0.        , 0.7113249 , 0.6464466 , 0.43305328],\n",
       "       [0.5917517 , 0.45227745, 0.6666667 , 0.48360223, 0.6666667 ,\n",
       "        0.6666667 , 0.7113249 , 0.42264974, 1.        , 0.48360223,\n",
       "        0.34534633, 0.33333334, 1.        , 1.        , 0.7113249 ,\n",
       "        0.5285955 , 0.7113249 , 0.        , 1.        , 0.34534633],\n",
       "       [1.        , 0.5527864 , 1.        , 0.6837722 , 0.5917517 ,\n",
       "        0.5917517 , 1.        , 0.6464466 , 0.6464466 , 0.6837722 ,\n",
       "        0.73273873, 1.        , 0.29289323, 0.5917517 , 0.6464466 ,\n",
       "        0.42264974, 0.6464466 , 1.        , 0.        , 0.46547753],\n",
       "       [0.73273873, 0.16333997, 0.56356424, 0.3238766 , 0.56356424,\n",
       "        0.56356424, 0.43305328, 0.24407105, 0.6220355 , 0.49290743,\n",
       "        0.2857143 , 0.34534633, 0.6220355 , 0.7817821 , 0.24407105,\n",
       "        0.22848324, 0.43305328, 0.34534633, 0.46547753, 0.        ]],\n",
       "      dtype=float32)"
      ]
     },
     "execution_count": 12,
     "metadata": {},
     "output_type": "execute_result"
    }
   ],
   "source": [
    "similarity_matrix"
   ]
  },
  {
   "cell_type": "code",
   "execution_count": 13,
   "metadata": {},
   "outputs": [],
   "source": [
    "sm2 = pdist(matrix, 'cosine')"
   ]
  },
  {
   "cell_type": "code",
   "execution_count": 16,
   "metadata": {},
   "outputs": [
    {
     "data": {
      "text/plain": [
       "400"
      ]
     },
     "execution_count": 16,
     "metadata": {},
     "output_type": "execute_result"
    }
   ],
   "source": [
    "similarity_matrix.size"
   ]
  },
  {
   "cell_type": "code",
   "execution_count": null,
   "metadata": {},
   "outputs": [],
   "source": []
  },
  {
   "cell_type": "code",
   "execution_count": 16,
   "metadata": {},
   "outputs": [
    {
     "data": {
      "text/plain": [
       "array([[0.        ,        nan, 1.3273269 , 1.        , 0.23623738,\n",
       "        1.3273269 , 1.4082483 , 0.89793795, 0.89793795, 0.5       ,\n",
       "        0.67267317, 1.3273269 , 1.1666666 , 0.7817821 , 1.4082483 ,\n",
       "        1.1020621 , 0.89793795, 0.7817821 , 1.25      , 1.2182178 ],\n",
       "       [       nan, 0.        ,        nan,        nan,        nan,\n",
       "               nan,        nan,        nan,        nan,        nan,\n",
       "               nan,        nan,        nan,        nan,        nan,\n",
       "               nan,        nan,        nan,        nan,        nan],\n",
       "       [1.3273269 ,        nan, 0.        , 1.6546537 , 1.4285715 ,\n",
       "        0.95238096, 0.64365166, 1.0890871 , 1.0890871 , 1.2182178 ,\n",
       "        0.5714286 , 0.95238096, 1.2182178 , 1.4285715 , 0.64365166,\n",
       "        1.8017837 , 1.0890871 , 0.95238096, 1.3273269 , 1.0476191 ],\n",
       "       [1.        ,        nan, 1.6546537 , 0.        , 0.7817821 ,\n",
       "        1.2182178 , 1.        , 0.5917517 , 1.4082483 , 1.2       ,\n",
       "        1.6546537 , 0.7817821 , 0.6666667 , 0.7817821 , 1.        ,\n",
       "        0.18350342, 1.        , 0.7817821 , 1.        , 0.7817821 ],\n",
       "       [0.23623738,        nan, 1.4285715 , 0.7817821 , 0.        ,\n",
       "        1.4285715 , 1.5345225 , 0.64365166, 1.0890871 , 0.7817821 ,\n",
       "        1.0476191 , 1.4285715 , 0.4908249 , 0.47619048, 1.0890871 ,\n",
       "        0.91091293, 0.64365166, 0.95238096, 0.7817821 , 1.0476191 ],\n",
       "       [1.3273269 ,        nan, 0.95238096, 1.2182178 , 1.4285715 ,\n",
       "        0.        , 1.5345225 , 1.0890871 , 0.64365166, 1.2182178 ,\n",
       "        1.0476191 , 0.95238096, 1.2182178 , 0.95238096, 1.0890871 ,\n",
       "        0.91091293, 1.0890871 , 0.95238096, 0.7817821 , 1.0476191 ],\n",
       "       [1.4082483 ,        nan, 0.64365166, 1.        , 1.5345225 ,\n",
       "        1.5345225 , 0.        , 1.25      , 1.25      , 1.        ,\n",
       "        0.91091293, 0.64365166, 1.2721655 , 1.5345225 , 0.8333333 ,\n",
       "        1.1666666 , 1.25      , 1.0890871 , 1.4082483 , 0.91091293],\n",
       "       [0.89793795,        nan, 1.0890871 , 0.5917517 , 0.64365166,\n",
       "        1.0890871 , 1.25      , 0.        , 1.6666666 , 1.4082483 ,\n",
       "        1.3563483 , 0.64365166, 0.5917517 , 1.0890871 , 0.41666666,\n",
       "        0.75      , 0.41666666, 0.64365166, 0.89793795, 0.46547753],\n",
       "       [0.89793795,        nan, 1.0890871 , 1.4082483 , 1.0890871 ,\n",
       "        0.64365166, 1.25      , 1.6666666 , 0.        , 1.        ,\n",
       "        0.91091293, 1.5345225 , 1.2721655 , 0.64365166, 1.25      ,\n",
       "        1.1666666 , 1.25      , 1.5345225 , 0.89793795, 1.3563483 ],\n",
       "       [0.5       ,        nan, 1.2182178 , 1.2       , 0.7817821 ,\n",
       "        1.2182178 , 1.        , 1.4082483 , 1.        , 0.        ,\n",
       "        0.34534633, 1.2182178 , 1.3333334 , 1.2182178 , 1.8164966 ,\n",
       "        1.        , 1.4082483 , 0.7817821 , 1.        , 1.2182178 ],\n",
       "       [0.67267317,        nan, 0.5714286 , 1.6546537 , 1.0476191 ,\n",
       "        1.0476191 , 0.91091293, 1.3563483 , 0.91091293, 0.34534633,\n",
       "        0.        , 1.0476191 , 1.5091751 , 1.5238096 , 1.3563483 ,\n",
       "        1.5345225 , 1.3563483 , 0.5714286 , 1.2182178 , 0.95238096],\n",
       "       [1.3273269 ,        nan, 0.95238096, 0.7817821 , 1.4285715 ,\n",
       "        0.95238096, 0.64365166, 0.64365166, 1.5345225 , 1.2182178 ,\n",
       "        1.0476191 , 0.        , 1.2182178 , 1.4285715 , 0.64365166,\n",
       "        0.91091293, 0.64365166, 0.47619048, 1.3273269 , 0.5714286 ],\n",
       "       [1.1666666 ,        nan, 1.2182178 , 0.6666667 , 0.4908249 ,\n",
       "        1.2182178 , 1.2721655 , 0.5917517 , 1.2721655 , 1.3333334 ,\n",
       "        1.5091751 , 1.2182178 , 0.        , 0.4908249 , 0.5917517 ,\n",
       "        0.72783446, 0.5917517 , 1.2182178 , 0.33333334, 0.7817821 ],\n",
       "       [0.7817821 ,        nan, 1.4285715 , 0.7817821 , 0.47619048,\n",
       "        0.95238096, 1.5345225 , 1.0890871 , 0.64365166, 1.2182178 ,\n",
       "        1.5238096 , 1.4285715 , 0.4908249 , 0.        , 1.0890871 ,\n",
       "        0.91091293, 0.64365166, 1.4285715 , 0.7817821 , 1.5238096 ],\n",
       "       [1.4082483 ,        nan, 0.64365166, 1.        , 1.0890871 ,\n",
       "        1.0890871 , 0.8333333 , 0.41666666, 1.25      , 1.8164966 ,\n",
       "        1.3563483 , 0.64365166, 0.5917517 , 1.0890871 , 0.        ,\n",
       "        1.1666666 , 0.41666666, 1.0890871 , 0.89793795, 0.46547753],\n",
       "       [1.1020621 ,        nan, 1.8017837 , 0.18350342, 0.91091293,\n",
       "        0.91091293, 1.1666666 , 0.75      , 1.1666666 , 1.        ,\n",
       "        1.5345225 , 0.91091293, 0.72783446, 0.91091293, 1.1666666 ,\n",
       "        0.        , 1.1666666 , 0.91091293, 0.5917517 , 0.64365166],\n",
       "       [0.89793795,        nan, 1.0890871 , 1.        , 0.64365166,\n",
       "        1.0890871 , 1.25      , 0.41666666, 1.25      , 1.4082483 ,\n",
       "        1.3563483 , 0.64365166, 0.5917517 , 0.64365166, 0.41666666,\n",
       "        1.1666666 , 0.        , 1.0890871 , 0.89793795, 0.91091293],\n",
       "       [0.7817821 ,        nan, 0.95238096, 0.7817821 , 0.95238096,\n",
       "        0.95238096, 1.0890871 , 0.64365166, 1.5345225 , 0.7817821 ,\n",
       "        0.5714286 , 0.47619048, 1.2182178 , 1.4285715 , 1.0890871 ,\n",
       "        0.91091293, 1.0890871 , 0.        , 1.3273269 , 0.5714286 ],\n",
       "       [1.25      ,        nan, 1.3273269 , 1.        , 0.7817821 ,\n",
       "        0.7817821 , 1.4082483 , 0.89793795, 0.89793795, 1.        ,\n",
       "        1.2182178 , 1.3273269 , 0.33333334, 0.7817821 , 0.89793795,\n",
       "        0.5917517 , 0.89793795, 1.3273269 , 0.        , 0.67267317],\n",
       "       [1.2182178 ,        nan, 1.0476191 , 0.7817821 , 1.0476191 ,\n",
       "        1.0476191 , 0.91091293, 0.46547753, 1.3563483 , 1.2182178 ,\n",
       "        0.95238096, 0.5714286 , 0.7817821 , 1.5238096 , 0.46547753,\n",
       "        0.64365166, 0.91091293, 0.5714286 , 0.67267317, 0.        ]],\n",
       "      dtype=float32)"
      ]
     },
     "execution_count": 16,
     "metadata": {},
     "output_type": "execute_result"
    }
   ],
   "source": [
    "similarity_matrix_pearson"
   ]
  },
  {
   "cell_type": "code",
   "execution_count": 53,
   "metadata": {},
   "outputs": [],
   "source": [
    "from pyclustering.cluster.kmedoids import kmedoids;\n",
    "from pyclustering.cluster.agglomerative import agglomerative;\n",
    "from pyclustering.cluster import cluster_visualizer;"
   ]
  },
  {
   "cell_type": "code",
   "execution_count": 54,
   "metadata": {},
   "outputs": [],
   "source": [
    "# set random initial medoids\n",
    "initial_medoids = [5,15]"
   ]
  },
  {
   "cell_type": "code",
   "execution_count": 55,
   "metadata": {},
   "outputs": [],
   "source": [
    "# create K-Medoids algorithm for processing distance matrix instead of points\n",
    "kmedoids_instance = kmedoids(similarity_matrix, initial_medoids, data_type='distance_matrix')"
   ]
  },
  {
   "cell_type": "code",
   "execution_count": 56,
   "metadata": {},
   "outputs": [],
   "source": [
    "# run cluster analysis and obtain results\n",
    "kmedoids_instance.process()\n",
    "clusters = kmedoids_instance.get_clusters()\n",
    "medoids = kmedoids_instance.get_medoids()"
   ]
  },
  {
   "cell_type": "code",
   "execution_count": 57,
   "metadata": {},
   "outputs": [
    {
     "data": {
      "text/plain": [
       "[[5], [1, 0, 2, 3, 4, 6, 7, 8, 9, 10, 11, 12, 13, 14, 15, 16, 17, 18, 19]]"
      ]
     },
     "execution_count": 57,
     "metadata": {},
     "output_type": "execute_result"
    }
   ],
   "source": [
    "clusters"
   ]
  },
  {
   "cell_type": "code",
   "execution_count": 58,
   "metadata": {},
   "outputs": [
    {
     "data": {
      "text/plain": [
       "[5, 1]"
      ]
     },
     "execution_count": 58,
     "metadata": {},
     "output_type": "execute_result"
    }
   ],
   "source": [
    "medoids"
   ]
  },
  {
   "cell_type": "code",
   "execution_count": 63,
   "metadata": {},
   "outputs": [],
   "source": [
    "from sklearn.cluster import AgglomerativeClustering"
   ]
  },
  {
   "cell_type": "code",
   "execution_count": 64,
   "metadata": {},
   "outputs": [],
   "source": [
    "#for i in range(2,21):\n",
    "hc = AgglomerativeClustering(n_clusters = 5, affinity = 'precomputed', linkage = 'complete')"
   ]
  },
  {
   "cell_type": "code",
   "execution_count": 65,
   "metadata": {},
   "outputs": [],
   "source": [
    "y_hc = hc.fit(similarity_matrix)"
   ]
  },
  {
   "cell_type": "code",
   "execution_count": 66,
   "metadata": {},
   "outputs": [
    {
     "data": {
      "text/plain": [
       "AgglomerativeClustering(affinity='precomputed', compute_full_tree='auto',\n",
       "            connectivity=None, linkage='complete', memory=None,\n",
       "            n_clusters=5, pooling_func='deprecated')"
      ]
     },
     "execution_count": 66,
     "metadata": {},
     "output_type": "execute_result"
    }
   ],
   "source": [
    "y_hc"
   ]
  },
  {
   "cell_type": "code",
   "execution_count": 47,
   "metadata": {},
   "outputs": [
    {
     "name": "stdout",
     "output_type": "stream",
     "text": [
      "[1 3 4 3 1 2 4 0 2 1 1 3 0 0 0 3 0 3 0 3]\n"
     ]
    }
   ],
   "source": [
    "print(y_hc.labels_)"
   ]
  },
  {
   "cell_type": "code",
   "execution_count": 61,
   "metadata": {},
   "outputs": [
    {
     "name": "stdout",
     "output_type": "stream",
     "text": [
      "5\n"
     ]
    }
   ],
   "source": [
    "print(y_hc.n_clusters)"
   ]
  },
  {
   "cell_type": "code",
   "execution_count": 62,
   "metadata": {},
   "outputs": [
    {
     "name": "stdout",
     "output_type": "stream",
     "text": [
      "20\n"
     ]
    }
   ],
   "source": [
    "print(y_hc.n_leaves_)"
   ]
  },
  {
   "cell_type": "code",
   "execution_count": null,
   "metadata": {},
   "outputs": [],
   "source": []
  },
  {
   "cell_type": "code",
   "execution_count": 40,
   "metadata": {},
   "outputs": [],
   "source": [
    "from kmedoids import kmedoids"
   ]
  },
  {
   "cell_type": "code",
   "execution_count": 48,
   "metadata": {},
   "outputs": [],
   "source": [
    "sm, c = kmedoids(similarity_matrix, k=5)"
   ]
  },
  {
   "cell_type": "code",
   "execution_count": 49,
   "metadata": {},
   "outputs": [
    {
     "data": {
      "text/plain": [
       "array([ 2, 15,  8, 10,  7])"
      ]
     },
     "execution_count": 49,
     "metadata": {},
     "output_type": "execute_result"
    }
   ],
   "source": [
    "sm"
   ]
  },
  {
   "cell_type": "code",
   "execution_count": 50,
   "metadata": {},
   "outputs": [
    {
     "data": {
      "text/plain": [
       "{0: array([2, 6]),\n",
       " 1: array([ 3, 15, 18, 19]),\n",
       " 2: array([ 5,  8, 13]),\n",
       " 3: array([ 0,  1,  9, 10, 17]),\n",
       " 4: array([ 4,  7, 11, 12, 14, 16])}"
      ]
     },
     "execution_count": 50,
     "metadata": {},
     "output_type": "execute_result"
    }
   ],
   "source": [
    "c"
   ]
  },
  {
   "cell_type": "code",
   "execution_count": 51,
   "metadata": {},
   "outputs": [],
   "source": [
    "upper_sm = np.triu(similarity_matrix, 1)"
   ]
  },
  {
   "cell_type": "code",
   "execution_count": 52,
   "metadata": {},
   "outputs": [
    {
     "data": {
      "text/plain": [
       "(20, 20)"
      ]
     },
     "execution_count": 52,
     "metadata": {},
     "output_type": "execute_result"
    }
   ],
   "source": [
    "upper_sm.shape"
   ]
  },
  {
   "cell_type": "code",
   "execution_count": 59,
   "metadata": {},
   "outputs": [],
   "source": [
    "xpto = np.array([number for list_number in upper_sm for number in list_number if number != 0])"
   ]
  },
  {
   "cell_type": "code",
   "execution_count": 60,
   "metadata": {},
   "outputs": [
    {
     "data": {
      "text/plain": [
       "(190,)"
      ]
     },
     "execution_count": 60,
     "metadata": {},
     "output_type": "execute_result"
    }
   ],
   "source": [
    "xpto.shape"
   ]
  },
  {
   "cell_type": "code",
   "execution_count": null,
   "metadata": {},
   "outputs": [],
   "source": []
  },
  {
   "cell_type": "code",
   "execution_count": 58,
   "metadata": {},
   "outputs": [
    {
     "data": {
      "text/plain": [
       "190"
      ]
     },
     "execution_count": 58,
     "metadata": {},
     "output_type": "execute_result"
    }
   ],
   "source": [
    "len(xpto)"
   ]
  },
  {
   "cell_type": "code",
   "execution_count": null,
   "metadata": {},
   "outputs": [],
   "source": []
  },
  {
   "cell_type": "code",
   "execution_count": null,
   "metadata": {},
   "outputs": [],
   "source": []
  },
  {
   "cell_type": "code",
   "execution_count": null,
   "metadata": {},
   "outputs": [],
   "source": []
  },
  {
   "cell_type": "code",
   "execution_count": 53,
   "metadata": {},
   "outputs": [
    {
     "data": {
      "text/plain": [
       "array([[0.        , 0.5527864 , 1.        , 0.6837722 , 0.18350342,\n",
       "        1.        , 1.        , 0.6464466 , 0.6464466 , 0.36754447,\n",
       "        0.46547753, 1.        , 1.        , 0.5917517 , 1.        ,\n",
       "        0.7113249 , 0.6464466 , 0.5917517 , 1.        , 0.73273873],\n",
       "       [0.        , 0.        , 0.45227745, 0.29289323, 0.45227745,\n",
       "        0.45227745, 0.36754447, 0.36754447, 0.36754447, 0.29289323,\n",
       "        0.16333997, 0.45227745, 0.6837722 , 0.45227745, 0.36754447,\n",
       "        0.22540332, 0.36754447, 0.45227745, 0.5527864 , 0.16333997],\n",
       "       [0.        , 0.        , 0.        , 1.        , 1.        ,\n",
       "        0.6666667 , 0.42264974, 0.7113249 , 0.7113249 , 0.7418011 ,\n",
       "        0.34534633, 0.6666667 , 1.        , 1.        , 0.42264974,\n",
       "        1.        , 0.7113249 , 0.6666667 , 1.        , 0.56356424],\n",
       "       [0.        , 0.        , 0.        , 0.        , 0.48360223,\n",
       "        0.7418011 , 0.5527864 , 0.3291796 , 0.7763932 , 0.6       ,\n",
       "        0.6619383 , 0.48360223, 0.5527864 , 0.48360223, 0.5527864 ,\n",
       "        0.08712907, 0.5527864 , 0.48360223, 0.6837722 , 0.3238766 ],\n",
       "       [0.        , 0.        , 0.        , 0.        , 0.        ,\n",
       "        1.        , 1.        , 0.42264974, 0.7113249 , 0.48360223,\n",
       "        0.56356424, 1.        , 0.42264974, 0.33333334, 0.7113249 ,\n",
       "        0.5285955 , 0.42264974, 0.6666667 , 0.5917517 , 0.56356424],\n",
       "       [0.        , 0.        , 0.        , 0.        , 0.        ,\n",
       "        0.        , 1.        , 0.7113249 , 0.42264974, 0.7418011 ,\n",
       "        0.56356424, 0.6666667 , 1.        , 0.6666667 , 0.7113249 ,\n",
       "        0.5285955 , 0.7113249 , 0.6666667 , 0.5917517 , 0.56356424],\n",
       "       [0.        , 0.        , 0.        , 0.        , 0.        ,\n",
       "        0.        , 0.        , 0.75      , 0.75      , 0.5527864 ,\n",
       "        0.43305328, 0.42264974, 1.        , 1.        , 0.5       ,\n",
       "        0.5917517 , 0.75      , 0.7113249 , 1.        , 0.43305328],\n",
       "       [0.        , 0.        , 0.        , 0.        , 0.        ,\n",
       "        0.        , 0.        , 0.        , 1.        , 0.7763932 ,\n",
       "        0.6220355 , 0.42264974, 0.5       , 0.7113249 , 0.25      ,\n",
       "        0.38762757, 0.25      , 0.42264974, 0.6464466 , 0.24407105],\n",
       "       [0.        , 0.        , 0.        , 0.        , 0.        ,\n",
       "        0.        , 0.        , 0.        , 0.        , 0.5527864 ,\n",
       "        0.43305328, 1.        , 1.        , 0.42264974, 0.75      ,\n",
       "        0.5917517 , 0.75      , 1.        , 0.6464466 , 0.6220355 ],\n",
       "       [0.        , 0.        , 0.        , 0.        , 0.        ,\n",
       "        0.        , 0.        , 0.        , 0.        , 0.        ,\n",
       "        0.15484574, 0.7418011 , 1.        , 0.7418011 , 1.        ,\n",
       "        0.45227745, 0.7763932 , 0.48360223, 0.6837722 , 0.49290743],\n",
       "       [0.        , 0.        , 0.        , 0.        , 0.        ,\n",
       "        0.        , 0.        , 0.        , 0.        , 0.        ,\n",
       "        0.        , 0.56356424, 1.        , 0.7817821 , 0.6220355 ,\n",
       "        0.53708994, 0.6220355 , 0.34534633, 0.73273873, 0.2857143 ],\n",
       "       [0.        , 0.        , 0.        , 0.        , 0.        ,\n",
       "        0.        , 0.        , 0.        , 0.        , 0.        ,\n",
       "        0.        , 0.        , 1.        , 1.        , 0.42264974,\n",
       "        0.5285955 , 0.42264974, 0.33333334, 1.        , 0.34534633],\n",
       "       [0.        , 0.        , 0.        , 0.        , 0.        ,\n",
       "        0.        , 0.        , 0.        , 0.        , 0.        ,\n",
       "        0.        , 0.        , 0.        , 0.42264974, 0.5       ,\n",
       "        0.5917517 , 0.5       , 1.        , 0.29289323, 0.6220355 ],\n",
       "       [0.        , 0.        , 0.        , 0.        , 0.        ,\n",
       "        0.        , 0.        , 0.        , 0.        , 0.        ,\n",
       "        0.        , 0.        , 0.        , 0.        , 0.7113249 ,\n",
       "        0.5285955 , 0.42264974, 1.        , 0.5917517 , 0.7817821 ],\n",
       "       [0.        , 0.        , 0.        , 0.        , 0.        ,\n",
       "        0.        , 0.        , 0.        , 0.        , 0.        ,\n",
       "        0.        , 0.        , 0.        , 0.        , 0.        ,\n",
       "        0.5917517 , 0.25      , 0.7113249 , 0.6464466 , 0.24407105],\n",
       "       [0.        , 0.        , 0.        , 0.        , 0.        ,\n",
       "        0.        , 0.        , 0.        , 0.        , 0.        ,\n",
       "        0.        , 0.        , 0.        , 0.        , 0.        ,\n",
       "        0.        , 0.5917517 , 0.5285955 , 0.42264974, 0.22848324],\n",
       "       [0.        , 0.        , 0.        , 0.        , 0.        ,\n",
       "        0.        , 0.        , 0.        , 0.        , 0.        ,\n",
       "        0.        , 0.        , 0.        , 0.        , 0.        ,\n",
       "        0.        , 0.        , 0.7113249 , 0.6464466 , 0.43305328],\n",
       "       [0.        , 0.        , 0.        , 0.        , 0.        ,\n",
       "        0.        , 0.        , 0.        , 0.        , 0.        ,\n",
       "        0.        , 0.        , 0.        , 0.        , 0.        ,\n",
       "        0.        , 0.        , 0.        , 1.        , 0.34534633],\n",
       "       [0.        , 0.        , 0.        , 0.        , 0.        ,\n",
       "        0.        , 0.        , 0.        , 0.        , 0.        ,\n",
       "        0.        , 0.        , 0.        , 0.        , 0.        ,\n",
       "        0.        , 0.        , 0.        , 0.        , 0.46547753],\n",
       "       [0.        , 0.        , 0.        , 0.        , 0.        ,\n",
       "        0.        , 0.        , 0.        , 0.        , 0.        ,\n",
       "        0.        , 0.        , 0.        , 0.        , 0.        ,\n",
       "        0.        , 0.        , 0.        , 0.        , 0.        ]],\n",
       "      dtype=float32)"
      ]
     },
     "execution_count": 53,
     "metadata": {},
     "output_type": "execute_result"
    }
   ],
   "source": [
    "upper_sm"
   ]
  },
  {
   "cell_type": "code",
   "execution_count": 39,
   "metadata": {},
   "outputs": [
    {
     "data": {
      "text/plain": [
       "array([0.5527864 , 1.        , 0.68377223, 0.18350342, 1.        ,\n",
       "       1.        , 0.64644661, 0.64644661, 0.36754447, 0.46547752,\n",
       "       1.        , 1.        , 0.59175171, 1.        , 0.71132487,\n",
       "       0.64644661, 0.59175171, 1.        , 0.73273876, 0.45227744,\n",
       "       0.29289322, 0.45227744, 0.45227744, 0.36754447, 0.36754447,\n",
       "       0.36754447, 0.29289322, 0.16333997, 0.45227744, 0.68377223,\n",
       "       0.45227744, 0.36754447, 0.22540333, 0.36754447, 0.45227744,\n",
       "       0.5527864 , 0.16333997, 1.        , 1.        , 0.66666667,\n",
       "       0.42264973, 0.71132487, 0.71132487, 0.74180111, 0.34534633,\n",
       "       0.66666667, 1.        , 1.        , 0.42264973, 1.        ,\n",
       "       0.71132487, 0.66666667, 1.        , 0.56356422, 0.48360222,\n",
       "       0.74180111, 0.5527864 , 0.32917961, 0.7763932 , 0.6       ,\n",
       "       0.6619383 , 0.48360222, 0.5527864 , 0.48360222, 0.5527864 ,\n",
       "       0.08712907, 0.5527864 , 0.48360222, 0.68377223, 0.3238766 ,\n",
       "       1.        , 1.        , 0.42264973, 0.71132487, 0.48360222,\n",
       "       0.56356422, 1.        , 0.42264973, 0.33333333, 0.71132487,\n",
       "       0.52859548, 0.42264973, 0.66666667, 0.59175171, 0.56356422,\n",
       "       1.        , 0.71132487, 0.42264973, 0.74180111, 0.56356422,\n",
       "       0.66666667, 1.        , 0.66666667, 0.71132487, 0.52859548,\n",
       "       0.71132487, 0.66666667, 0.59175171, 0.56356422, 0.75      ,\n",
       "       0.75      , 0.5527864 , 0.43305329, 0.42264973, 1.        ,\n",
       "       1.        , 0.5       , 0.59175171, 0.75      , 0.71132487,\n",
       "       1.        , 0.43305329, 1.        , 0.7763932 , 0.62203553,\n",
       "       0.42264973, 0.5       , 0.71132487, 0.25      , 0.38762756,\n",
       "       0.25      , 0.42264973, 0.64644661, 0.24407105, 0.5527864 ,\n",
       "       0.43305329, 1.        , 1.        , 0.42264973, 0.75      ,\n",
       "       0.59175171, 0.75      , 1.        , 0.64644661, 0.62203553,\n",
       "       0.15484575, 0.74180111, 1.        , 0.74180111, 1.        ,\n",
       "       0.45227744, 0.7763932 , 0.48360222, 0.68377223, 0.49290745,\n",
       "       0.56356422, 1.        , 0.78178211, 0.62203553, 0.53708995,\n",
       "       0.62203553, 0.34534633, 0.73273876, 0.28571429, 1.        ,\n",
       "       1.        , 0.42264973, 0.52859548, 0.42264973, 0.33333333,\n",
       "       1.        , 0.34534633, 0.42264973, 0.5       , 0.59175171,\n",
       "       0.5       , 1.        , 0.29289322, 0.62203553, 0.71132487,\n",
       "       0.52859548, 0.42264973, 1.        , 0.59175171, 0.78178211,\n",
       "       0.59175171, 0.25      , 0.71132487, 0.64644661, 0.24407105,\n",
       "       0.59175171, 0.52859548, 0.42264973, 0.22848325, 0.71132487,\n",
       "       0.64644661, 0.43305329, 1.        , 0.34534633, 0.46547752])"
      ]
     },
     "execution_count": 39,
     "metadata": {},
     "output_type": "execute_result"
    }
   ],
   "source": [
    "sm2"
   ]
  },
  {
   "cell_type": "code",
   "execution_count": null,
   "metadata": {},
   "outputs": [],
   "source": []
  },
  {
   "cell_type": "code",
   "execution_count": 61,
   "metadata": {},
   "outputs": [],
   "source": [
    "Z5 = linkage(xpto, method='complete')"
   ]
  },
  {
   "cell_type": "code",
   "execution_count": 63,
   "metadata": {},
   "outputs": [],
   "source": [
    "Z6 = linkage(sm2, method='complete')"
   ]
  },
  {
   "cell_type": "code",
   "execution_count": 62,
   "metadata": {},
   "outputs": [
    {
     "data": {
      "image/png": "[encoded data removed]",
      "text/plain": [
       "<Figure size 720x720 with 4 Axes>"
      ]
     },
     "metadata": {
      "needs_background": "light"
     },
     "output_type": "display_data"
    }
   ],
   "source": [
    "g = sns.clustermap(similarity_matrix, row_linkage=Z5, col_linkage=Z5)"
   ]
  },
  {
   "cell_type": "code",
   "execution_count": 64,
   "metadata": {},
   "outputs": [
    {
     "data": {
      "image/png": "[encoded data removed]",
      "text/plain": [
       "<Figure size 720x720 with 4 Axes>"
      ]
     },
     "metadata": {
      "needs_background": "light"
     },
     "output_type": "display_data"
    }
   ],
   "source": [
    "g = sns.clustermap(similarity_matrix, row_linkage=Z6, col_linkage=Z6)"
   ]
  },
  {
   "cell_type": "code",
   "execution_count": 47,
   "metadata": {},
   "outputs": [
    {
     "data": {
      "text/plain": [
       "(190,)"
      ]
     },
     "execution_count": 47,
     "metadata": {},
     "output_type": "execute_result"
    }
   ],
   "source": [
    "sm2.shape"
   ]
  },
  {
   "cell_type": "code",
   "execution_count": 48,
   "metadata": {},
   "outputs": [
    {
     "data": {
      "text/plain": [
       "array([[0.        , 0.5527864 , 1.        , 0.6837722 , 0.18350342,\n",
       "        1.        , 1.        , 0.6464466 , 0.6464466 , 0.36754447,\n",
       "        0.46547753, 1.        , 1.        , 0.5917517 , 1.        ,\n",
       "        0.7113249 , 0.6464466 , 0.5917517 , 1.        , 0.73273873],\n",
       "       [0.        , 0.        , 0.45227745, 0.29289323, 0.45227745,\n",
       "        0.45227745, 0.36754447, 0.36754447, 0.36754447, 0.29289323,\n",
       "        0.16333997, 0.45227745, 0.6837722 , 0.45227745, 0.36754447,\n",
       "        0.22540332, 0.36754447, 0.45227745, 0.5527864 , 0.16333997],\n",
       "       [0.        , 0.        , 0.        , 1.        , 1.        ,\n",
       "        0.6666667 , 0.42264974, 0.7113249 , 0.7113249 , 0.7418011 ,\n",
       "        0.34534633, 0.6666667 , 1.        , 1.        , 0.42264974,\n",
       "        1.        , 0.7113249 , 0.6666667 , 1.        , 0.56356424],\n",
       "       [0.        , 0.        , 0.        , 0.        , 0.48360223,\n",
       "        0.7418011 , 0.5527864 , 0.3291796 , 0.7763932 , 0.6       ,\n",
       "        0.6619383 , 0.48360223, 0.5527864 , 0.48360223, 0.5527864 ,\n",
       "        0.08712907, 0.5527864 , 0.48360223, 0.6837722 , 0.3238766 ],\n",
       "       [0.        , 0.        , 0.        , 0.        , 0.        ,\n",
       "        1.        , 1.        , 0.42264974, 0.7113249 , 0.48360223,\n",
       "        0.56356424, 1.        , 0.42264974, 0.33333334, 0.7113249 ,\n",
       "        0.5285955 , 0.42264974, 0.6666667 , 0.5917517 , 0.56356424],\n",
       "       [0.        , 0.        , 0.        , 0.        , 0.        ,\n",
       "        0.        , 1.        , 0.7113249 , 0.42264974, 0.7418011 ,\n",
       "        0.56356424, 0.6666667 , 1.        , 0.6666667 , 0.7113249 ,\n",
       "        0.5285955 , 0.7113249 , 0.6666667 , 0.5917517 , 0.56356424],\n",
       "       [0.        , 0.        , 0.        , 0.        , 0.        ,\n",
       "        0.        , 0.        , 0.75      , 0.75      , 0.5527864 ,\n",
       "        0.43305328, 0.42264974, 1.        , 1.        , 0.5       ,\n",
       "        0.5917517 , 0.75      , 0.7113249 , 1.        , 0.43305328],\n",
       "       [0.        , 0.        , 0.        , 0.        , 0.        ,\n",
       "        0.        , 0.        , 0.        , 1.        , 0.7763932 ,\n",
       "        0.6220355 , 0.42264974, 0.5       , 0.7113249 , 0.25      ,\n",
       "        0.38762757, 0.25      , 0.42264974, 0.6464466 , 0.24407105],\n",
       "       [0.        , 0.        , 0.        , 0.        , 0.        ,\n",
       "        0.        , 0.        , 0.        , 0.        , 0.5527864 ,\n",
       "        0.43305328, 1.        , 1.        , 0.42264974, 0.75      ,\n",
       "        0.5917517 , 0.75      , 1.        , 0.6464466 , 0.6220355 ],\n",
       "       [0.        , 0.        , 0.        , 0.        , 0.        ,\n",
       "        0.        , 0.        , 0.        , 0.        , 0.        ,\n",
       "        0.15484574, 0.7418011 , 1.        , 0.7418011 , 1.        ,\n",
       "        0.45227745, 0.7763932 , 0.48360223, 0.6837722 , 0.49290743],\n",
       "       [0.        , 0.        , 0.        , 0.        , 0.        ,\n",
       "        0.        , 0.        , 0.        , 0.        , 0.        ,\n",
       "        0.        , 0.56356424, 1.        , 0.7817821 , 0.6220355 ,\n",
       "        0.53708994, 0.6220355 , 0.34534633, 0.73273873, 0.2857143 ],\n",
       "       [0.        , 0.        , 0.        , 0.        , 0.        ,\n",
       "        0.        , 0.        , 0.        , 0.        , 0.        ,\n",
       "        0.        , 0.        , 1.        , 1.        , 0.42264974,\n",
       "        0.5285955 , 0.42264974, 0.33333334, 1.        , 0.34534633],\n",
       "       [0.        , 0.        , 0.        , 0.        , 0.        ,\n",
       "        0.        , 0.        , 0.        , 0.        , 0.        ,\n",
       "        0.        , 0.        , 0.        , 0.42264974, 0.5       ,\n",
       "        0.5917517 , 0.5       , 1.        , 0.29289323, 0.6220355 ],\n",
       "       [0.        , 0.        , 0.        , 0.        , 0.        ,\n",
       "        0.        , 0.        , 0.        , 0.        , 0.        ,\n",
       "        0.        , 0.        , 0.        , 0.        , 0.7113249 ,\n",
       "        0.5285955 , 0.42264974, 1.        , 0.5917517 , 0.7817821 ],\n",
       "       [0.        , 0.        , 0.        , 0.        , 0.        ,\n",
       "        0.        , 0.        , 0.        , 0.        , 0.        ,\n",
       "        0.        , 0.        , 0.        , 0.        , 0.        ,\n",
       "        0.5917517 , 0.25      , 0.7113249 , 0.6464466 , 0.24407105],\n",
       "       [0.        , 0.        , 0.        , 0.        , 0.        ,\n",
       "        0.        , 0.        , 0.        , 0.        , 0.        ,\n",
       "        0.        , 0.        , 0.        , 0.        , 0.        ,\n",
       "        0.        , 0.5917517 , 0.5285955 , 0.42264974, 0.22848324],\n",
       "       [0.        , 0.        , 0.        , 0.        , 0.        ,\n",
       "        0.        , 0.        , 0.        , 0.        , 0.        ,\n",
       "        0.        , 0.        , 0.        , 0.        , 0.        ,\n",
       "        0.        , 0.        , 0.7113249 , 0.6464466 , 0.43305328],\n",
       "       [0.        , 0.        , 0.        , 0.        , 0.        ,\n",
       "        0.        , 0.        , 0.        , 0.        , 0.        ,\n",
       "        0.        , 0.        , 0.        , 0.        , 0.        ,\n",
       "        0.        , 0.        , 0.        , 1.        , 0.34534633],\n",
       "       [0.        , 0.        , 0.        , 0.        , 0.        ,\n",
       "        0.        , 0.        , 0.        , 0.        , 0.        ,\n",
       "        0.        , 0.        , 0.        , 0.        , 0.        ,\n",
       "        0.        , 0.        , 0.        , 0.        , 0.46547753],\n",
       "       [0.        , 0.        , 0.        , 0.        , 0.        ,\n",
       "        0.        , 0.        , 0.        , 0.        , 0.        ,\n",
       "        0.        , 0.        , 0.        , 0.        , 0.        ,\n",
       "        0.        , 0.        , 0.        , 0.        , 0.        ]],\n",
       "      dtype=float32)"
      ]
     },
     "execution_count": 48,
     "metadata": {},
     "output_type": "execute_result"
    }
   ],
   "source": [
    "upper_sm"
   ]
  },
  {
   "cell_type": "code",
   "execution_count": 49,
   "metadata": {},
   "outputs": [
    {
     "data": {
      "text/plain": [
       "(20, 20)"
      ]
     },
     "execution_count": 49,
     "metadata": {},
     "output_type": "execute_result"
    }
   ],
   "source": [
    "upper_sm.shape"
   ]
  },
  {
   "cell_type": "code",
   "execution_count": null,
   "metadata": {},
   "outputs": [],
   "source": []
  },
  {
   "cell_type": "code",
   "execution_count": 44,
   "metadata": {},
   "outputs": [],
   "source": [
    "Z = complete(sm2)"
   ]
  },
  {
   "cell_type": "code",
   "execution_count": 45,
   "metadata": {},
   "outputs": [
    {
     "data": {
      "text/plain": [
       "array([[ 3.        , 15.        ,  0.08712907,  2.        ],\n",
       "       [ 9.        , 10.        ,  0.15484575,  2.        ],\n",
       "       [ 1.        , 19.        ,  0.16333997,  2.        ],\n",
       "       [ 0.        ,  4.        ,  0.18350342,  2.        ],\n",
       "       [ 7.        , 14.        ,  0.25      ,  2.        ],\n",
       "       [16.        , 24.        ,  0.25      ,  3.        ],\n",
       "       [12.        , 18.        ,  0.29289322,  2.        ],\n",
       "       [20.        , 22.        ,  0.3238766 ,  4.        ],\n",
       "       [11.        , 17.        ,  0.33333333,  2.        ],\n",
       "       [ 2.        ,  6.        ,  0.42264973,  2.        ],\n",
       "       [ 5.        ,  8.        ,  0.42264973,  2.        ],\n",
       "       [27.        , 28.        ,  0.52859548,  6.        ],\n",
       "       [21.        , 23.        ,  0.56356422,  4.        ],\n",
       "       [13.        , 26.        ,  0.59175171,  3.        ],\n",
       "       [25.        , 33.        ,  0.71132487,  6.        ],\n",
       "       [29.        , 30.        ,  1.        ,  4.        ],\n",
       "       [32.        , 35.        ,  1.        ,  8.        ],\n",
       "       [34.        , 36.        ,  1.        , 14.        ],\n",
       "       [31.        , 37.        ,  1.        , 20.        ]])"
      ]
     },
     "execution_count": 45,
     "metadata": {},
     "output_type": "execute_result"
    }
   ],
   "source": [
    "Z"
   ]
  },
  {
   "cell_type": "code",
   "execution_count": 21,
   "metadata": {},
   "outputs": [],
   "source": [
    "import seaborn as sns; sns.set(color_codes=True)"
   ]
  },
  {
   "cell_type": "code",
   "execution_count": 19,
   "metadata": {},
   "outputs": [
    {
     "data": {
      "image/png": "[encoded data removed]",
      "text/plain": [
       "<Figure size 720x720 with 4 Axes>"
      ]
     },
     "metadata": {
      "needs_background": "light"
     },
     "output_type": "display_data"
    }
   ],
   "source": [
    "g = sns.clustermap(Z)"
   ]
  },
  {
   "cell_type": "code",
   "execution_count": 21,
   "metadata": {},
   "outputs": [
    {
     "data": {
      "image/png": "[encoded data removed]",
      "text/plain": [
       "<Figure size 720x720 with 4 Axes>"
      ]
     },
     "metadata": {
      "needs_background": "light"
     },
     "output_type": "display_data"
    }
   ],
   "source": [
    "g = sns.clustermap(Z, metric=\"cosine\")"
   ]
  },
  {
   "cell_type": "code",
   "execution_count": 24,
   "metadata": {},
   "outputs": [
    {
     "data": {
      "image/png": "[encoded data removed]",
      "text/plain": [
       "<Figure size 720x720 with 4 Axes>"
      ]
     },
     "metadata": {
      "needs_background": "light"
     },
     "output_type": "display_data"
    }
   ],
   "source": [
    "g = sns.clustermap(Z, method=\"complete\")"
   ]
  },
  {
   "cell_type": "code",
   "execution_count": null,
   "metadata": {},
   "outputs": [],
   "source": []
  },
  {
   "cell_type": "code",
   "execution_count": 22,
   "metadata": {},
   "outputs": [
    {
     "data": {
      "image/png": "[encoded data removed]",
      "text/plain": [
       "<Figure size 720x720 with 4 Axes>"
      ]
     },
     "metadata": {
      "needs_background": "light"
     },
     "output_type": "display_data"
    }
   ],
   "source": [
    "g = sns.clustermap(Z, z_score=0)"
   ]
  },
  {
   "cell_type": "code",
   "execution_count": 33,
   "metadata": {},
   "outputs": [],
   "source": [
    "Z4 = linkage(upper_sm, method='centroid')"
   ]
  },
  {
   "cell_type": "code",
   "execution_count": 28,
   "metadata": {},
   "outputs": [
    {
     "data": {
      "image/png": "[encoded data removed]",
      "text/plain": [
       "<Figure size 720x720 with 4 Axes>"
      ]
     },
     "metadata": {
      "needs_background": "light"
     },
     "output_type": "display_data"
    }
   ],
   "source": [
    "g = sns.clustermap(Z)"
   ]
  },
  {
   "cell_type": "code",
   "execution_count": 29,
   "metadata": {},
   "outputs": [
    {
     "data": {
      "image/png": "[encoded data removed]",
      "text/plain": [
       "<Figure size 720x720 with 4 Axes>"
      ]
     },
     "metadata": {
      "needs_background": "light"
     },
     "output_type": "display_data"
    }
   ],
   "source": [
    "g = sns.clustermap(Z2)"
   ]
  },
  {
   "cell_type": "code",
   "execution_count": 32,
   "metadata": {},
   "outputs": [
    {
     "data": {
      "image/png": "[encoded data removed]",
      "text/plain": [
       "<Figure size 720x720 with 4 Axes>"
      ]
     },
     "metadata": {
      "needs_background": "light"
     },
     "output_type": "display_data"
    }
   ],
   "source": [
    "g = sns.clustermap(Z3)"
   ]
  },
  {
   "cell_type": "code",
   "execution_count": 34,
   "metadata": {},
   "outputs": [
    {
     "data": {
      "image/png": "[encoded data removed]",
      "text/plain": [
       "<Figure size 720x720 with 4 Axes>"
      ]
     },
     "metadata": {
      "needs_background": "light"
     },
     "output_type": "display_data"
    }
   ],
   "source": [
    "g = sns.clustermap(Z4)"
   ]
  },
  {
   "cell_type": "code",
   "execution_count": 35,
   "metadata": {},
   "outputs": [
    {
     "data": {
      "image/png": "[encoded data removed]",
      "text/plain": [
       "<Figure size 720x720 with 4 Axes>"
      ]
     },
     "metadata": {
      "needs_background": "light"
     },
     "output_type": "display_data"
    }
   ],
   "source": [
    "g = sns.clustermap(Z4, col_cluster=False)"
   ]
  },
  {
   "cell_type": "code",
   "execution_count": 36,
   "metadata": {},
   "outputs": [
    {
     "data": {
      "image/png": "[encoded data removed]",
      "text/plain": [
       "<Figure size 720x720 with 4 Axes>"
      ]
     },
     "metadata": {
      "needs_background": "light"
     },
     "output_type": "display_data"
    }
   ],
   "source": [
    "g = sns.clustermap(Z4, row_cluster=False)"
   ]
  },
  {
   "cell_type": "code",
   "execution_count": null,
   "metadata": {},
   "outputs": [],
   "source": []
  },
  {
   "cell_type": "code",
   "execution_count": null,
   "metadata": {},
   "outputs": [],
   "source": []
  },
  {
   "cell_type": "code",
   "execution_count": null,
   "metadata": {},
   "outputs": [],
   "source": []
  }
 ],
 "metadata": {
  "kernelspec": {
   "display_name": "Python 3",
   "language": "python",
   "name": "python3"
  },
  "language_info": {
   "codemirror_mode": {
    "name": "ipython",
    "version": 3
   },
   "file_extension": ".py",
   "mimetype": "text/x-python",
   "name": "python",
   "nbconvert_exporter": "python",
   "pygments_lexer": "ipython3",
   "version": "3.7.3"
  }
 },
 "nbformat": 4,
 "nbformat_minor": 2
}
